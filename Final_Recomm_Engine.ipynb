{
 "cells": [
  {
   "cell_type": "markdown",
   "metadata": {},
   "source": [
    "# Retail Recommendation Engine\n",
    "------------\n",
    "\n",
    "## Introduction\n",
    "\n",
    "\n",
    "A *recommendation engine*, also known as a *recommender system*, is a software that analyzes available data to make suggestions for something that an user might be interested in, such as a book, a grocery item, movies or a job, among other possibilities.\n",
    "\n",
    "In this notebook, we will be going through the steps involved in creating a recommendation engine for an online retail shop, along with testing and deployment.\n",
    "\n",
    "**![List item](https://raw.githubusercontent.com/sudeeshsukumaran/RetailRecommendationEngine/master/image/shop.jpg)**\n",
    "\n",
    "In retail industry, the recommender system, uses the data, to train itself, to identify the items that are frequently bought along with the items that are already picked. This can be used both for *online retail* or in a *physical store*. In physical store, the information provided by this system, can be used to arrange the items on the shelf so that the sales of those frequently bought together items can be increased.\n",
    "\n",
    "#### Libraries\n",
    "The following libraries will be used for this project.\n",
    "\n",
    "**PS**:* If the import fails, please install the appropriate modules using PIP install, before proceeding further.*\n",
    "\n",
    "\n"
   ]
  },
  {
   "cell_type": "code",
   "execution_count": 1,
   "metadata": {
    "ExecuteTime": {
     "end_time": "2020-01-12T04:24:53.140407Z",
     "start_time": "2020-01-12T04:24:10.851517Z"
    }
   },
   "outputs": [],
   "source": [
    "# Import libraries\n",
    "import pandas as pd\n",
    "import numpy as np\n",
    "import networkx as nx\n",
    "import matplotlib.pyplot as plt\n",
    "\n",
    "from datetime import datetime\n",
    "#from community import community_louvain\n",
    "\n",
    "from mlxtend.frequent_patterns import apriori, association_rules # APRIORI algo library\n",
    "\n",
    "from sklearn.pipeline import Pipeline\n",
    "\n",
    "import warnings\n",
    "warnings.filterwarnings('ignore')\n",
    "%matplotlib inline\n",
    "\n"
   ]
  },
  {
   "cell_type": "markdown",
   "metadata": {},
   "source": [
    "### Source Dataset"
   ]
  },
  {
   "cell_type": "markdown",
   "metadata": {
    "ExecuteTime": {
     "end_time": "2020-01-10T03:45:13.326132Z",
     "start_time": "2020-01-10T03:45:13.318085Z"
    }
   },
   "source": [
    "For This Project, We Will Be Using The Online Retail Dataset, From Uci Repository; [Online-Retail](Http://Https://Archive.Ics.Uci.Edu/Ml/Datasets/Online+Retail).\n",
    "\n",
    "*The excel downloaded from UCI, has two tabs in it. This case study uses data from 2010 - 2011 tab.*\n",
    "\n",
    "A copy of which is stored in my github."
   ]
  },
  {
   "cell_type": "code",
   "execution_count": 2,
   "metadata": {
    "ExecuteTime": {
     "end_time": "2020-01-12T04:28:29.862575Z",
     "start_time": "2020-01-12T04:24:53.151486Z"
    }
   },
   "outputs": [],
   "source": [
    "#Import data set\n",
    "df_in = pd.read_excel(\"https://raw.githubusercontent.com/sudeeshsukumaran/RetailRecommendationEngine/master/DSET/online_retail.xlsx\")"
   ]
  },
  {
   "cell_type": "markdown",
   "metadata": {},
   "source": [
    "###  Exploratory Data Analysis\n",
    "Lets analyse the data and see, if it needs any further processing / cleansing, before we use it in our algorithm."
   ]
  },
  {
   "cell_type": "code",
   "execution_count": 3,
   "metadata": {
    "ExecuteTime": {
     "end_time": "2020-01-12T04:28:29.992524Z",
     "start_time": "2020-01-12T04:28:29.870489Z"
    }
   },
   "outputs": [
    {
     "data": {
      "text/plain": [
       "(541910, 8)"
      ]
     },
     "execution_count": 3,
     "metadata": {},
     "output_type": "execute_result"
    }
   ],
   "source": [
    "df_in.shape"
   ]
  },
  {
   "cell_type": "code",
   "execution_count": 4,
   "metadata": {
    "ExecuteTime": {
     "end_time": "2020-01-12T04:28:30.476075Z",
     "start_time": "2020-01-12T04:28:29.999384Z"
    }
   },
   "outputs": [
    {
     "data": {
      "text/html": [
       "<div>\n",
       "<style scoped>\n",
       "    .dataframe tbody tr th:only-of-type {\n",
       "        vertical-align: middle;\n",
       "    }\n",
       "\n",
       "    .dataframe tbody tr th {\n",
       "        vertical-align: top;\n",
       "    }\n",
       "\n",
       "    .dataframe thead th {\n",
       "        text-align: right;\n",
       "    }\n",
       "</style>\n",
       "<table border=\"1\" class=\"dataframe\">\n",
       "  <thead>\n",
       "    <tr style=\"text-align: right;\">\n",
       "      <th></th>\n",
       "      <th>Quantity</th>\n",
       "      <th>Price</th>\n",
       "      <th>CustomerID</th>\n",
       "    </tr>\n",
       "  </thead>\n",
       "  <tbody>\n",
       "    <tr>\n",
       "      <th>count</th>\n",
       "      <td>541910.000000</td>\n",
       "      <td>541910.000000</td>\n",
       "      <td>406830.000000</td>\n",
       "    </tr>\n",
       "    <tr>\n",
       "      <th>mean</th>\n",
       "      <td>9.552234</td>\n",
       "      <td>4.611138</td>\n",
       "      <td>15287.684160</td>\n",
       "    </tr>\n",
       "    <tr>\n",
       "      <th>std</th>\n",
       "      <td>218.080957</td>\n",
       "      <td>96.759765</td>\n",
       "      <td>1713.603074</td>\n",
       "    </tr>\n",
       "    <tr>\n",
       "      <th>min</th>\n",
       "      <td>-80995.000000</td>\n",
       "      <td>-11062.060000</td>\n",
       "      <td>12346.000000</td>\n",
       "    </tr>\n",
       "    <tr>\n",
       "      <th>25%</th>\n",
       "      <td>1.000000</td>\n",
       "      <td>1.250000</td>\n",
       "      <td>13953.000000</td>\n",
       "    </tr>\n",
       "    <tr>\n",
       "      <th>50%</th>\n",
       "      <td>3.000000</td>\n",
       "      <td>2.080000</td>\n",
       "      <td>15152.000000</td>\n",
       "    </tr>\n",
       "    <tr>\n",
       "      <th>75%</th>\n",
       "      <td>10.000000</td>\n",
       "      <td>4.130000</td>\n",
       "      <td>16791.000000</td>\n",
       "    </tr>\n",
       "    <tr>\n",
       "      <th>max</th>\n",
       "      <td>80995.000000</td>\n",
       "      <td>38970.000000</td>\n",
       "      <td>18287.000000</td>\n",
       "    </tr>\n",
       "  </tbody>\n",
       "</table>\n",
       "</div>"
      ],
      "text/plain": [
       "            Quantity          Price     CustomerID\n",
       "count  541910.000000  541910.000000  406830.000000\n",
       "mean        9.552234       4.611138   15287.684160\n",
       "std       218.080957      96.759765    1713.603074\n",
       "min    -80995.000000  -11062.060000   12346.000000\n",
       "25%         1.000000       1.250000   13953.000000\n",
       "50%         3.000000       2.080000   15152.000000\n",
       "75%        10.000000       4.130000   16791.000000\n",
       "max     80995.000000   38970.000000   18287.000000"
      ]
     },
     "execution_count": 4,
     "metadata": {},
     "output_type": "execute_result"
    }
   ],
   "source": [
    "df_in.describe()"
   ]
  },
  {
   "cell_type": "code",
   "execution_count": 5,
   "metadata": {
    "ExecuteTime": {
     "end_time": "2020-01-12T04:28:30.487996Z",
     "start_time": "2020-01-12T04:28:30.480005Z"
    }
   },
   "outputs": [
    {
     "data": {
      "text/plain": [
       "Index(['Invoice', 'StockCode', 'Description', 'Quantity', 'InvoiceDate',\n",
       "       'Price', 'CustomerID', 'Country'],\n",
       "      dtype='object')"
      ]
     },
     "execution_count": 5,
     "metadata": {},
     "output_type": "execute_result"
    }
   ],
   "source": [
    "df_in.columns"
   ]
  },
  {
   "cell_type": "code",
   "execution_count": 6,
   "metadata": {
    "ExecuteTime": {
     "end_time": "2020-01-12T04:28:30.603522Z",
     "start_time": "2020-01-12T04:28:30.490975Z"
    }
   },
   "outputs": [
    {
     "name": "stdout",
     "output_type": "stream",
     "text": [
      "Min timestamp in the dataset is  2010-12-01 08:26:00\n",
      "Max timestamp in the dataset is  2011-12-09 12:50:00\n"
     ]
    }
   ],
   "source": [
    "# Min, Max dates in the dataframe\n",
    "print(\"Min timestamp in the dataset is \",  df_in.InvoiceDate.min())\n",
    "print(\"Max timestamp in the dataset is \",  df_in.InvoiceDate.max())"
   ]
  },
  {
   "cell_type": "code",
   "execution_count": 7,
   "metadata": {
    "ExecuteTime": {
     "end_time": "2020-01-12T04:28:30.692979Z",
     "start_time": "2020-01-12T04:28:30.610503Z"
    }
   },
   "outputs": [
    {
     "name": "stdout",
     "output_type": "stream",
     "text": [
      "Number of Invoices in the dataframe =  25900\n"
     ]
    }
   ],
   "source": [
    "# Number of invoices in the dataframe\n",
    "print(\"Number of Invoices in the dataframe = \", len(df_in.Invoice.unique()))"
   ]
  },
  {
   "cell_type": "code",
   "execution_count": 8,
   "metadata": {
    "ExecuteTime": {
     "end_time": "2020-01-12T04:28:31.099568Z",
     "start_time": "2020-01-12T04:28:30.702044Z"
    }
   },
   "outputs": [
    {
     "data": {
      "text/plain": [
       "Invoice             0\n",
       "StockCode           0\n",
       "Description      1454\n",
       "Quantity            0\n",
       "InvoiceDate         0\n",
       "Price               0\n",
       "CustomerID     135080\n",
       "Country             0\n",
       "dtype: int64"
      ]
     },
     "execution_count": 8,
     "metadata": {},
     "output_type": "execute_result"
    }
   ],
   "source": [
    "df_in.isnull().sum()"
   ]
  },
  {
   "cell_type": "code",
   "execution_count": 9,
   "metadata": {
    "ExecuteTime": {
     "end_time": "2020-01-12T04:28:31.130033Z",
     "start_time": "2020-01-12T04:28:31.105548Z"
    }
   },
   "outputs": [
    {
     "name": "stdout",
     "output_type": "stream",
     "text": [
      "Number of invoices that do not have customer id =  3710\n"
     ]
    }
   ],
   "source": [
    "# Count number of invoices that do not have customer id\n",
    "l1=df_in['Invoice'][df_in['CustomerID'].isnull()]\n",
    "print(\"Number of invoices that do not have customer id = \", len(l1.unique()))\n"
   ]
  },
  {
   "cell_type": "code",
   "execution_count": 10,
   "metadata": {
    "ExecuteTime": {
     "end_time": "2020-01-12T04:28:31.237867Z",
     "start_time": "2020-01-12T04:28:31.132746Z"
    }
   },
   "outputs": [
    {
     "data": {
      "text/plain": [
       "38"
      ]
     },
     "execution_count": 10,
     "metadata": {},
     "output_type": "execute_result"
    }
   ],
   "source": [
    "len(df_in['Country'].unique())"
   ]
  },
  {
   "cell_type": "code",
   "execution_count": 11,
   "metadata": {
    "ExecuteTime": {
     "end_time": "2020-01-12T04:28:31.333062Z",
     "start_time": "2020-01-12T04:28:31.240860Z"
    }
   },
   "outputs": [
    {
     "data": {
      "text/plain": [
       "array(['United Kingdom', 'France', 'Australia', 'Netherlands', 'Germany',\n",
       "       'Norway', 'EIRE', 'Switzerland', 'Spain', 'Poland', 'Portugal',\n",
       "       'Italy', 'Belgium', 'Lithuania', 'Japan', 'Iceland',\n",
       "       'Channel Islands', 'Denmark', 'Cyprus', 'Sweden', 'Austria',\n",
       "       'Israel', 'Finland', 'Bahrain', 'Greece', 'Hong Kong', 'Singapore',\n",
       "       'Lebanon', 'United Arab Emirates', 'Saudi Arabia',\n",
       "       'Czech Republic', 'Canada', 'Unspecified', 'Brazil', 'USA',\n",
       "       'European Community', 'Malta', 'RSA'], dtype=object)"
      ]
     },
     "execution_count": 11,
     "metadata": {},
     "output_type": "execute_result"
    }
   ],
   "source": [
    "df_in['Country'].unique()"
   ]
  },
  {
   "cell_type": "code",
   "execution_count": 12,
   "metadata": {
    "ExecuteTime": {
     "end_time": "2020-01-12T04:28:32.168971Z",
     "start_time": "2020-01-12T04:28:31.337561Z"
    }
   },
   "outputs": [
    {
     "data": {
      "text/plain": [
       "<BarContainer object of 10 artists>"
      ]
     },
     "execution_count": 12,
     "metadata": {},
     "output_type": "execute_result"
    },
    {
     "data": {
      "image/png": "[encoded data removed]",
      "text/plain": [
       "<Figure size 432x288 with 1 Axes>"
      ]
     },
     "metadata": {
      "needs_background": "light"
     },
     "output_type": "display_data"
    }
   ],
   "source": [
    "new_df = df_in.groupby(['Country'])['Quantity'].sum().reset_index()\n",
    "new_df = new_df.sort_values(by = ['Quantity'], ascending=False)\n",
    "x = new_df['Country'].head(10)\n",
    "y = new_df['Quantity'].head(10) #.plot.barh\n",
    "plt.barh(x,y)"
   ]
  },
  {
   "cell_type": "code",
   "execution_count": 13,
   "metadata": {
    "ExecuteTime": {
     "end_time": "2020-01-12T04:28:32.222637Z",
     "start_time": "2020-01-12T04:28:32.176369Z"
    }
   },
   "outputs": [
    {
     "name": "stdout",
     "output_type": "stream",
     "text": [
      "Most items shipped to UK, number of items\n",
      "           Country  Quantity\n",
      "36  United Kingdom   4263829\n",
      "\n",
      "Second most items shipped to UK, number of items\n",
      "        Country  Quantity\n",
      "24  Netherlands    200128\n"
     ]
    }
   ],
   "source": [
    "print(\"Most items shipped to UK, number of items\")\n",
    "print(new_df[new_df['Country'] == \"United Kingdom\"])\n",
    "print(\"\\nSecond most items shipped to UK, number of items\")\n",
    "print(new_df[new_df['Country'] == \"Netherlands\"])"
   ]
  },
  {
   "cell_type": "code",
   "execution_count": 14,
   "metadata": {
    "ExecuteTime": {
     "end_time": "2020-01-12T04:28:32.493651Z",
     "start_time": "2020-01-12T04:28:32.230653Z"
    }
   },
   "outputs": [
    {
     "name": "stdout",
     "output_type": "stream",
     "text": [
      "Number of postage as items in the invoices =  1253\n"
     ]
    }
   ],
   "source": [
    "# Postage as items\n",
    "print(\"Number of postage as items in the invoices = \", df_in['Invoice'][df_in['Description'] == 'POSTAGE'].count())"
   ]
  },
  {
   "cell_type": "code",
   "execution_count": 15,
   "metadata": {
    "ExecuteTime": {
     "end_time": "2020-01-12T04:28:32.718669Z",
     "start_time": "2020-01-12T04:28:32.500632Z"
    }
   },
   "outputs": [
    {
     "name": "stdout",
     "output_type": "stream",
     "text": [
      "Number of mailout as items in the invoices =  3\n"
     ]
    }
   ],
   "source": [
    "# Postage as items\n",
    "print(\"Number of mailout as items in the invoices = \", df_in['Invoice'][df_in['Description'] == 'mailout'].count())"
   ]
  },
  {
   "cell_type": "code",
   "execution_count": 16,
   "metadata": {
    "ExecuteTime": {
     "end_time": "2020-01-12T04:28:32.818830Z",
     "start_time": "2020-01-12T04:28:32.726362Z"
    }
   },
   "outputs": [
    {
     "name": "stdout",
     "output_type": "stream",
     "text": [
      "Number of Returns =  10624\n"
     ]
    }
   ],
   "source": [
    "# Postage as items\n",
    "print(\"Number of Returns = \", df_in['Invoice'][df_in['Quantity'] < 0].count())"
   ]
  },
  {
   "cell_type": "markdown",
   "metadata": {},
   "source": [
    "The dataset contains **541,910** rows and **8** columns / features.\n",
    "Following columns are present in dataframe:\n",
    "1. \t\t*Invoice*\n",
    "2. \t\t*StockCode*\n",
    "3. \t\t*Description*\n",
    "4. \t\t*Quantity*\n",
    "5. \t\t*InvoiceDate*\n",
    "6. \t\t*Price*\n",
    "7. \t\t*CustomerID*\n",
    "8. \t\t*Country*\n",
    "\n",
    "The dataset  :\n",
    "- has invoices from **2010-12-01** till **2011-12-09**\n",
    "- has **25,900** unique invoices\n",
    "- has **1454** null values in the **Description** field\n",
    "- has **135,080** nulls **customer id** field\n",
    "- has customers, who are from **38** different **countries**\n",
    "- has **most items shipped to UK** based customers. Items more than **4M** has shipped to UK customers. Items to other countries are very negligible, second most number of  quantity is **200K**, shipped to **Netherlands**.\n",
    "- has **1253** records that are for Postage, which we can remove.\n",
    "- has **10K** records that have negative quantity, probably returns, which we can ignore as well.\n"
   ]
  },
  {
   "cell_type": "markdown",
   "metadata": {},
   "source": [
    "### Data Pre-Processing\n",
    "From our data analysis, we will:\n",
    "- **fix null description records**, either, using it from other records or by dropping them\n",
    "- **remove 'Postage'** records\n",
    "- **remove 'mailout'** records\n",
    "- remove refund items with **Quantity < 0**\n"
   ]
  },
  {
   "cell_type": "markdown",
   "metadata": {
    "ExecuteTime": {
     "end_time": "2020-01-10T11:26:11.727549Z",
     "start_time": "2020-01-10T11:26:11.718573Z"
    }
   },
   "source": [
    "### Functions\n",
    "The data pre-processing steps need to be repeated, if we are going to load new invoices and create new rulesets. Hence making the steps as functions. so we can call them, when needed instead of re-coding."
   ]
  },
  {
   "cell_type": "code",
   "execution_count": 17,
   "metadata": {
    "ExecuteTime": {
     "end_time": "2020-01-12T04:28:32.883618Z",
     "start_time": "2020-01-12T04:28:32.828722Z"
    }
   },
   "outputs": [],
   "source": [
    "# Clean Description Field\n",
    "#        1. Use the description from other rows using StockCode\n",
    "#        2. Delete rows where we are not able to find desc, using stockcode\n",
    "\n",
    "def fix_null_desc():\n",
    "    # StockCode Description CrossWalk\n",
    "    print(\"\\nFixing Null Values for Description field....\")\n",
    "    ticw = pd.notnull(df['Description'])# ----> Creates a series with 'True', if not null values in Description,\n",
    "                                        #                             'False' if null values.\n",
    "\n",
    "    icw = df[ticw] # ----> Create a lookup with not null description\n",
    "    labels=list(df.columns)\n",
    "    labels.remove('StockCode')\n",
    "    labels.remove('Description')\n",
    "    labels\n",
    "    icw=icw.drop(columns=labels)\n",
    "    \n",
    "    icwd=icw.drop_duplicates(subset='StockCode') #----> Store only Unique StockCodes and its descriptions\n",
    "    \n",
    "    c1=df['Description'].isnull().sum()\n",
    "\n",
    "    df['Description'] = df['StockCode'].map(icwd.set_index('StockCode')['Description']) # --> Use the lookup to replace nulls with available descriptions.\n",
    "    \n",
    "    c2=df['Description'].isnull().sum()\n",
    "\n",
    "    print('Null values are replaced with existing descriptions with same StockCode: Count = ', c1 - c2)\n",
    "    \n",
    "    df.drop(df[df['Description'].isnull()].index,inplace=True)\n",
    "    \n",
    "    c3=df['Description'].isnull().sum()\n",
    "\n",
    "    print('Rows with null value Descriptions are dropped after lookup failed to match description: Count = ', c2 - c3)\n",
    "    \n",
    "    return\n",
    "    "
   ]
  },
  {
   "cell_type": "code",
   "execution_count": 18,
   "metadata": {
    "ExecuteTime": {
     "end_time": "2020-01-12T04:28:32.960472Z",
     "start_time": "2020-01-12T04:28:32.889600Z"
    }
   },
   "outputs": [],
   "source": [
    "# Remove Postage records\n",
    "\n",
    "def drop_postage():\n",
    "    \n",
    "    print(\"\\nDropping POSTAGE as items from the invoices....\")\n",
    "\n",
    "    b1 = len(df['Description'] == \"POSTAGE\")\n",
    "    df.drop(df[df['Description'] == \"POSTAGE\"].index,inplace=True)\n",
    "    b2 = len(df['Description'] == \"POSTAGE\")\n",
    "    print(\"Number of records, with POSTAGE as Description, dropped = \", b1 - b2)\n",
    "    return()"
   ]
  },
  {
   "cell_type": "code",
   "execution_count": 19,
   "metadata": {
    "ExecuteTime": {
     "end_time": "2020-01-12T04:28:33.027447Z",
     "start_time": "2020-01-12T04:28:32.967491Z"
    }
   },
   "outputs": [],
   "source": [
    "# Remove Postage records\n",
    "\n",
    "def drop_mailout():\n",
    "    \n",
    "    print(\"\\nDropping mailout as items from the invoices....\")\n",
    "\n",
    "    b1 = len(df['Description'] == \"mailout\")\n",
    "    df.drop(df[df['Description'] == \"mailout\"].index,inplace=True)\n",
    "    b2 = len(df['Description'] == \"mailout\")\n",
    "    print(\"Number of records, with mailout as Description, dropped = \", b1 - b2)\n",
    "    return()"
   ]
  },
  {
   "cell_type": "code",
   "execution_count": 20,
   "metadata": {
    "ExecuteTime": {
     "end_time": "2020-01-12T04:28:33.141563Z",
     "start_time": "2020-01-12T04:28:33.032561Z"
    }
   },
   "outputs": [],
   "source": [
    "# Remove Postage records\n",
    "\n",
    "def remove_refund():\n",
    "    \n",
    "    print(\"\\nRemoving Refund Entries from Invoice....\")\n",
    "\n",
    "    b1 = len(df['Quantity'] < 0)\n",
    "    df.drop(df[df['Quantity'] < 0].index,inplace=True)\n",
    "    b2 = len(df['Quantity'] < 0)\n",
    "    print(\"Number of records, with Quantity < 0, dropped = \", b1-b2)\n",
    "    return()"
   ]
  },
  {
   "cell_type": "code",
   "execution_count": 21,
   "metadata": {
    "ExecuteTime": {
     "end_time": "2020-01-12T04:28:33.273425Z",
     "start_time": "2020-01-12T04:28:33.149560Z"
    }
   },
   "outputs": [],
   "source": [
    "# Defining the hot encoding function to make the data suitable for the concerned libraries \n",
    "def hot_encode(x): \n",
    "    if(x<= 0): \n",
    "        return 0\n",
    "    if(x>= 1): \n",
    "        return 1"
   ]
  },
  {
   "cell_type": "code",
   "execution_count": 22,
   "metadata": {
    "ExecuteTime": {
     "end_time": "2020-01-12T04:28:33.378939Z",
     "start_time": "2020-01-12T04:28:33.283682Z"
    }
   },
   "outputs": [],
   "source": [
    "def first_time_build():\n",
    "    print(\"\\nRecommendation System initial build started..\",datetime.now().strftime(\"%d-%m-%Y %H:%M:%S\"))\n",
    "    basket = (df \n",
    "          .groupby(['Invoice', 'Description'])['Quantity'] \n",
    "          .sum().unstack().reset_index().fillna(0) \n",
    "          .set_index('Invoice'))\n",
    "    \n",
    "    basket_encoded = basket.applymap(hot_encode)\n",
    "    basket = basket_encoded\n",
    "    \n",
    "    print(\"\\nData encoding completed..\",datetime.now().strftime(\"%d-%m-%Y %H:%M:%S\"))\n",
    "    print(\"\\nApriori Model building - Started: \", datetime.now().strftime(\"%d-%m-%Y %H:%M:%S\"))\n",
    "    \n",
    "    # Building the model\n",
    "    frq_items = apriori(basket, min_support = 0.02, use_colnames = True)\n",
    "    \n",
    "    print(\"Apriori Model building - Completed: \", datetime.now().strftime(\"%d-%m-%Y %H:%M:%S\"))\n",
    "    print(\"\\nAssociation rules build Started:\", datetime.now().strftime(\"%d-%m-%Y %H:%M:%S\"))\n",
    "    \n",
    "    # Collecting the inferred rules in a dataframe\n",
    "    rules = association_rules(frq_items, metric =\"lift\", min_threshold = 1)\n",
    "    rules = rules.sort_values(['confidence', 'lift'], ascending =[False, False])\n",
    "    rules.head()\n",
    "    print(\"Association rules build completed:\", datetime.now().strftime(\"%d-%m-%Y %H:%M:%S\"))\n",
    "    \n",
    "    rules[\"str_antecedents\"] = rules[\"antecedents\"].apply(lambda x: list(x)[0]).astype(\"unicode\")\n",
    "    rules[\"str_consequents\"] = rules[\"consequents\"].apply(lambda x: list(x)[0]).astype(\"unicode\")\n",
    "    \n",
    "    sh1=rules.shape\n",
    "    print(\"\\nNumber of Rules Created = \", sh1[0])\n",
    "\n",
    "    return rules"
   ]
  },
  {
   "cell_type": "code",
   "execution_count": 23,
   "metadata": {
    "ExecuteTime": {
     "end_time": "2020-01-12T04:28:33.527407Z",
     "start_time": "2020-01-12T04:28:33.409523Z"
    }
   },
   "outputs": [],
   "source": [
    "def subsequent_time_build(rules):\n",
    "    print(\"\\nRecommendation System update started..\",datetime.now().strftime(\"%d-%m-%Y %H:%M:%S\"))\n",
    "    basket = (df \n",
    "          .groupby(['Invoice', 'Description'])['Quantity'] \n",
    "          .sum().unstack().reset_index().fillna(0)\n",
    "          .set_index('Invoice'))\n",
    "    \n",
    "    basket_encoded = basket.applymap(hot_encode)\n",
    "    basket = basket_encoded\n",
    "    \n",
    "    print(\"\\nData encoding completed..\",datetime.now().strftime(\"%d-%m-%Y %H:%M:%S\"))\n",
    "    print(\"\\nApriori Model building - Started: \", datetime.now().strftime(\"%d-%m-%Y %H:%M:%S\"))\n",
    "    \n",
    "    # Building the model\n",
    "    frq_items = apriori(basket, min_support = 0.02, use_colnames = True)\n",
    "    \n",
    "    print(\"Apriori Model building - Completed: \", datetime.now().strftime(\"%d-%m-%Y %H:%M:%S\"))\n",
    "    print(\"\\nAssociation rules build Started:\", datetime.now().strftime(\"%d-%m-%Y %H:%M:%S\"))\n",
    "    \n",
    "    # Collecting the inferred rules in a dataframe\n",
    "    rules_sub = association_rules(frq_items, metric =\"lift\", min_threshold = 1)\n",
    "    rules_sub[\"str_antecedents\"] = rules_sub[\"antecedents\"].apply(lambda x: list(x)[0]).astype(\"unicode\")\n",
    "    rules_sub[\"str_consequents\"] = rules_sub[\"consequents\"].apply(lambda x: list(x)[0]).astype(\"unicode\")\n",
    "    \n",
    "    sh=rules_sub.shape\n",
    "    \n",
    "    rules = rules.append(rules_sub)\n",
    "    rules = rules.sort_values(['confidence', 'lift'], ascending =[False, False])\n",
    "\n",
    "    print(\"Association rules build completed:\", datetime.now().strftime(\"%d-%m-%Y %H:%M:%S\"))\n",
    "    print(\"Number of rules updated = \", sh[0])\n",
    "    \n",
    "    sh=rules.shape\n",
    "    print(\"\\n\")\n",
    "    print(\"Total Number of rules available = \", sh[0])\n",
    "    return rules"
   ]
  },
  {
   "cell_type": "markdown",
   "metadata": {},
   "source": [
    "### Execution & Creating the Engine\n",
    "After we compiled our functions, lets execute the steps in right sequence to do pre-processing and create the engine."
   ]
  },
  {
   "cell_type": "code",
   "execution_count": 24,
   "metadata": {
    "ExecuteTime": {
     "end_time": "2020-01-12T04:30:35.045495Z",
     "start_time": "2020-01-12T04:28:33.531878Z"
    }
   },
   "outputs": [
    {
     "name": "stdout",
     "output_type": "stream",
     "text": [
      "\n",
      "Fixing Null Values for Description field....\n",
      "Null values are replaced with existing descriptions with same StockCode: Count =  1342\n",
      "Rows with null value Descriptions are dropped after lookup failed to match description: Count =  112\n",
      "\n",
      "Dropping POSTAGE as items from the invoices....\n",
      "Number of records, with POSTAGE as Description, dropped =  1257\n",
      "\n",
      "Dropping mailout as items from the invoices....\n",
      "Number of records, with mailout as Description, dropped =  3298\n",
      "\n",
      "Removing Refund Entries from Invoice....\n",
      "Number of records, with Quantity < 0, dropped =  10367\n",
      "\n",
      "Recommendation System initial build started.. 02-02-2021 13:14:57\n",
      "\n",
      "Data encoding completed.. 02-02-2021 13:16:07\n",
      "\n",
      "Apriori Model building - Started:  02-02-2021 13:16:07\n"
     ]
    },
    {
     "ename": "MemoryError",
     "evalue": "Unable to allocate 11.7 GiB for an array with shape (37950, 2, 20626) and data type int64",
     "output_type": "error",
     "traceback": [
      "\u001b[1;31m---------------------------------------------------------------------------\u001b[0m",
      "\u001b[1;31mMemoryError\u001b[0m                               Traceback (most recent call last)",
      "\u001b[1;32m<ipython-input-24-9dbe14370a09>\u001b[0m in \u001b[0;36m<module>\u001b[1;34m\u001b[0m\n\u001b[0;32m      6\u001b[0m \u001b[0mremove_refund\u001b[0m\u001b[1;33m(\u001b[0m\u001b[1;33m)\u001b[0m\u001b[1;33m\u001b[0m\u001b[1;33m\u001b[0m\u001b[0m\n\u001b[0;32m      7\u001b[0m \u001b[1;33m\u001b[0m\u001b[0m\n\u001b[1;32m----> 8\u001b[1;33m \u001b[0mrules_df\u001b[0m\u001b[1;33m=\u001b[0m\u001b[0mfirst_time_build\u001b[0m\u001b[1;33m(\u001b[0m\u001b[1;33m)\u001b[0m\u001b[1;33m\u001b[0m\u001b[1;33m\u001b[0m\u001b[0m\n\u001b[0m",
      "\u001b[1;32m<ipython-input-22-a6d7af1bb2fe>\u001b[0m in \u001b[0;36mfirst_time_build\u001b[1;34m()\u001b[0m\n\u001b[0;32m     13\u001b[0m \u001b[1;33m\u001b[0m\u001b[0m\n\u001b[0;32m     14\u001b[0m     \u001b[1;31m# Building the model\u001b[0m\u001b[1;33m\u001b[0m\u001b[1;33m\u001b[0m\u001b[1;33m\u001b[0m\u001b[0m\n\u001b[1;32m---> 15\u001b[1;33m     \u001b[0mfrq_items\u001b[0m \u001b[1;33m=\u001b[0m \u001b[0mapriori\u001b[0m\u001b[1;33m(\u001b[0m\u001b[0mbasket\u001b[0m\u001b[1;33m,\u001b[0m \u001b[0mmin_support\u001b[0m \u001b[1;33m=\u001b[0m \u001b[1;36m0.02\u001b[0m\u001b[1;33m,\u001b[0m \u001b[0muse_colnames\u001b[0m \u001b[1;33m=\u001b[0m \u001b[1;32mTrue\u001b[0m\u001b[1;33m)\u001b[0m\u001b[1;33m\u001b[0m\u001b[1;33m\u001b[0m\u001b[0m\n\u001b[0m\u001b[0;32m     16\u001b[0m \u001b[1;33m\u001b[0m\u001b[0m\n\u001b[0;32m     17\u001b[0m     \u001b[0mprint\u001b[0m\u001b[1;33m(\u001b[0m\u001b[1;34m\"Apriori Model building - Completed: \"\u001b[0m\u001b[1;33m,\u001b[0m \u001b[0mdatetime\u001b[0m\u001b[1;33m.\u001b[0m\u001b[0mnow\u001b[0m\u001b[1;33m(\u001b[0m\u001b[1;33m)\u001b[0m\u001b[1;33m.\u001b[0m\u001b[0mstrftime\u001b[0m\u001b[1;33m(\u001b[0m\u001b[1;34m\"%d-%m-%Y %H:%M:%S\"\u001b[0m\u001b[1;33m)\u001b[0m\u001b[1;33m)\u001b[0m\u001b[1;33m\u001b[0m\u001b[1;33m\u001b[0m\u001b[0m\n",
      "\u001b[1;32mC:\\ProgramData\\Anaconda3\\lib\\site-packages\\mlxtend\\frequent_patterns\\apriori.py\u001b[0m in \u001b[0;36mapriori\u001b[1;34m(df, min_support, use_colnames, max_len, verbose, low_memory)\u001b[0m\n\u001b[0;32m    221\u001b[0m                     \u001b[0m_bools\u001b[0m \u001b[1;33m=\u001b[0m \u001b[0m_bools\u001b[0m \u001b[1;33m&\u001b[0m \u001b[1;33m(\u001b[0m\u001b[0mX\u001b[0m\u001b[1;33m[\u001b[0m\u001b[1;33m:\u001b[0m\u001b[1;33m,\u001b[0m \u001b[0mcombin\u001b[0m\u001b[1;33m[\u001b[0m\u001b[1;33m:\u001b[0m\u001b[1;33m,\u001b[0m \u001b[0mn\u001b[0m\u001b[1;33m]\u001b[0m\u001b[1;33m]\u001b[0m \u001b[1;33m==\u001b[0m \u001b[0mall_ones\u001b[0m\u001b[1;33m)\u001b[0m\u001b[1;33m\u001b[0m\u001b[1;33m\u001b[0m\u001b[0m\n\u001b[0;32m    222\u001b[0m             \u001b[1;32melse\u001b[0m\u001b[1;33m:\u001b[0m\u001b[1;33m\u001b[0m\u001b[1;33m\u001b[0m\u001b[0m\n\u001b[1;32m--> 223\u001b[1;33m                 \u001b[0m_bools\u001b[0m \u001b[1;33m=\u001b[0m \u001b[0mnp\u001b[0m\u001b[1;33m.\u001b[0m\u001b[0mall\u001b[0m\u001b[1;33m(\u001b[0m\u001b[0mX\u001b[0m\u001b[1;33m[\u001b[0m\u001b[1;33m:\u001b[0m\u001b[1;33m,\u001b[0m \u001b[0mcombin\u001b[0m\u001b[1;33m]\u001b[0m\u001b[1;33m,\u001b[0m \u001b[0maxis\u001b[0m\u001b[1;33m=\u001b[0m\u001b[1;36m2\u001b[0m\u001b[1;33m)\u001b[0m\u001b[1;33m\u001b[0m\u001b[1;33m\u001b[0m\u001b[0m\n\u001b[0m\u001b[0;32m    224\u001b[0m \u001b[1;33m\u001b[0m\u001b[0m\n\u001b[0;32m    225\u001b[0m             \u001b[0msupport\u001b[0m \u001b[1;33m=\u001b[0m \u001b[0m_support\u001b[0m\u001b[1;33m(\u001b[0m\u001b[0mnp\u001b[0m\u001b[1;33m.\u001b[0m\u001b[0marray\u001b[0m\u001b[1;33m(\u001b[0m\u001b[0m_bools\u001b[0m\u001b[1;33m)\u001b[0m\u001b[1;33m,\u001b[0m \u001b[0mrows_count\u001b[0m\u001b[1;33m,\u001b[0m \u001b[0mis_sparse\u001b[0m\u001b[1;33m)\u001b[0m\u001b[1;33m\u001b[0m\u001b[1;33m\u001b[0m\u001b[0m\n",
      "\u001b[1;31mMemoryError\u001b[0m: Unable to allocate 11.7 GiB for an array with shape (37950, 2, 20626) and data type int64"
     ]
    }
   ],
   "source": [
    "df = df_in.copy()\n",
    "\n",
    "fix_null_desc()\n",
    "drop_postage()\n",
    "drop_mailout()\n",
    "remove_refund()\n",
    "\n",
    "rules_df=first_time_build()"
   ]
  },
  {
   "cell_type": "markdown",
   "metadata": {
    "ExecuteTime": {
     "end_time": "2020-01-10T12:08:27.950871Z",
     "start_time": "2020-01-10T12:08:27.945885Z"
    }
   },
   "source": [
    "Following is the network graph for the association rules created."
   ]
  },
  {
   "cell_type": "code",
   "execution_count": null,
   "metadata": {
    "ExecuteTime": {
     "end_time": "2020-01-12T04:30:36.334480Z",
     "start_time": "2020-01-12T04:30:35.049065Z"
    }
   },
   "outputs": [],
   "source": [
    "import networkx as nx\n",
    "rules_df.antecedents  =  rules_df.antecedents.apply(lambda x: next(iter(x)))\n",
    "rules_df.consequents  =  rules_df.consequents.apply(lambda x: next(iter(x)))\n",
    "fig, ax = plt.subplots(figsize = (15,6))\n",
    "GA = nx.from_pandas_edgelist(rules_df,source = 'antecedents',target = 'consequents')\n",
    "nx.draw(GA,with_labels = True)"
   ]
  },
  {
   "cell_type": "markdown",
   "metadata": {},
   "source": [
    "### Testing\n",
    "Now that we built the model, lets test the recommendation using \"***PINK REGENCY TEACUP AND SAUCER***\" as an item in our cart.\n"
   ]
  },
  {
   "cell_type": "code",
   "execution_count": null,
   "metadata": {
    "ExecuteTime": {
     "end_time": "2020-01-12T04:30:36.357420Z",
     "start_time": "2020-01-12T04:30:36.339435Z"
    }
   },
   "outputs": [],
   "source": [
    "cart = \"RED RETROSPOT CHARLOTTE BAG\"\n",
    "recomm_list=rules_df['str_consequents'][rules_df['str_antecedents'] == cart].unique()\n",
    "re_list = \" \"\n",
    "\n",
    "for i in range(len(recomm_list)):\n",
    "    cnt = len(recomm_list) - 1\n",
    "    if i < cnt:\n",
    "        re_list = re_list + (recomm_list[i]) + \", \"\n",
    "    else:\n",
    "        re_list = re_list + \"& \" + (recomm_list[i])\n",
    "        \n",
    "print(\"Customers who bought {}, also bought{}\".format(cart,re_list))"
   ]
  },
  {
   "cell_type": "markdown",
   "metadata": {
    "ExecuteTime": {
     "end_time": "2020-01-10T12:19:58.801943Z",
     "start_time": "2020-01-10T12:19:58.795959Z"
    }
   },
   "source": [
    "**Result**: When the item \"Pink Regency Teacup and Saucer\" is added the engine recommends to buy \"Green Regency Teacup And Saucer, & Roses Regency Teacup And Saucer\"."
   ]
  },
  {
   "cell_type": "markdown",
   "metadata": {},
   "source": [
    "### Maintenance\n",
    "\n",
    "When the retail shop continues its online presence using this recommendation algorithm, it is necessary that we update new invoice data regularly so that association rules are updated frequently and recommendation actualy makes some sense, in buying items together.\n",
    "\n",
    "In the original data from the UCI repository, there is a tab that has data for 2009. We will load the data ad update the rules that we just created.\n"
   ]
  },
  {
   "cell_type": "code",
   "execution_count": null,
   "metadata": {
    "ExecuteTime": {
     "end_time": "2020-01-12T04:33:31.787532Z",
     "start_time": "2020-01-12T04:30:36.360402Z"
    }
   },
   "outputs": [],
   "source": [
    "#Import data set\n",
    "df_in2 = pd.read_excel(\"https://raw.githubusercontent.com/sudeeshsukumaran/RetailRecommendationEngine/master/DSET/online_retail_b.xlsx\")"
   ]
  },
  {
   "cell_type": "markdown",
   "metadata": {},
   "source": [
    "We will be using the same steps that we create the initial rules. Once the rules are created, we will update the new rules to the existing rules."
   ]
  },
  {
   "cell_type": "code",
   "execution_count": null,
   "metadata": {
    "ExecuteTime": {
     "end_time": "2020-01-12T04:35:31.231602Z",
     "start_time": "2020-01-12T04:33:31.792516Z"
    }
   },
   "outputs": [],
   "source": [
    "df = df_in2.copy()\n",
    "\n",
    "fix_null_desc()\n",
    "drop_postage()\n",
    "drop_mailout()\n",
    "remove_refund()\n",
    "\n",
    "rules_df=subsequent_time_build(rules_df)"
   ]
  },
  {
   "cell_type": "code",
   "execution_count": null,
   "metadata": {
    "ExecuteTime": {
     "end_time": "2020-01-12T04:35:31.291944Z",
     "start_time": "2020-01-12T04:35:31.238138Z"
    }
   },
   "outputs": [],
   "source": [
    "rules_df.head()"
   ]
  },
  {
   "cell_type": "markdown",
   "metadata": {},
   "source": [
    "### Testing\n",
    "\n",
    "Let's test the new rules."
   ]
  },
  {
   "cell_type": "code",
   "execution_count": null,
   "metadata": {
    "ExecuteTime": {
     "end_time": "2020-01-12T04:35:31.403739Z",
     "start_time": "2020-01-12T04:35:31.295572Z"
    }
   },
   "outputs": [],
   "source": [
    "cart = \"RED RETROSPOT CHARLOTTE BAG\"\n",
    "recomm_list=rules_df['str_consequents'][rules_df['str_antecedents'] == cart].unique()\n",
    "re_list = \" \"\n",
    "\n",
    "for i in range(len(recomm_list)):\n",
    "    cnt = len(recomm_list) - 1\n",
    "    if i < cnt:\n",
    "        re_list = re_list + (recomm_list[i]) + \", \"\n",
    "    else:\n",
    "        re_list = re_list + \"& \" + (recomm_list[i])\n",
    "        \n",
    "print(\"Customers who bought {}, also bought{}\".format(cart,re_list))"
   ]
  },
  {
   "cell_type": "markdown",
   "metadata": {},
   "source": [
    "#### Thank You"
   ]
  }
 ],
 "metadata": {
  "kernelspec": {
   "display_name": "Python 3",
   "language": "python",
   "name": "python3"
  },
  "language_info": {
   "codemirror_mode": {
    "name": "ipython",
    "version": 3
   },
   "file_extension": ".py",
   "mimetype": "text/x-python",
   "name": "python",
   "nbconvert_exporter": "python",
   "pygments_lexer": "ipython3",
   "version": "3.7.1"
  }
 },
 "nbformat": 4,
 "nbformat_minor": 2
}
