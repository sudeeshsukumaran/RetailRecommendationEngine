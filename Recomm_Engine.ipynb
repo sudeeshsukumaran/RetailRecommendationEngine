{
  "nbformat": 4,
  "nbformat_minor": 0,
  "metadata": {
    "kernelspec": {
      "display_name": "Python 3",
      "language": "python",
      "name": "python3"
    },
    "language_info": {
      "codemirror_mode": {
        "name": "ipython",
        "version": 3
      },
      "file_extension": ".py",
      "mimetype": "text/x-python",
      "name": "python",
      "nbconvert_exporter": "python",
      "pygments_lexer": "ipython3",
      "version": "3.7.1"
    },
    "colab": {
      "name": "Final_Recomm_Engine.ipynb",
      "provenance": [],
      "include_colab_link": true
    },
    "accelerator": "GPU"
  },
  "cells": [
    {
      "cell_type": "markdown",
      "metadata": {
        "id": "view-in-github",
        "colab_type": "text"
      },
      "source": [
        "<a href=\"https://colab.research.google.com/github/sudeeshsukumaran/RetailRecommendationEngine/blob/main/Recomm_Engine.ipynb\" target=\"_parent\"><img src=\"https://colab.research.google.com/assets/colab-badge.svg\" alt=\"Open In Colab\"/></a>"
      ]
    },
    {
      "cell_type": "markdown",
      "metadata": {
        "id": "YN0nfysvw3zA"
      },
      "source": [
        "# Retail Recommendation Engine\n",
        "------------\n",
        "\n",
        "## Introduction\n",
        "\n",
        "\n",
        "A *recommendation engine*, also known as a *recommender system*, is a software that analyzes available data to make suggestions for something that an user might be interested in, such as a book, a grocery item, movies or a job, among other possibilities.\n",
        "\n",
        "In this notebook, we will be going through the steps involved in creating a recommendation engine for an online retail shop, along with testing and deployment.\n",
        "\n",
        "**![List item](https://raw.githubusercontent.com/sudeeshsukumaran/RetailRecommendationEngine/master/image/shop.jpg)**\n",
        "\n",
        "In retail industry, the recommender system, uses the data, to train itself, to identify the items that are frequently bought along with the items that are already picked. This can be used both for *online retail* or in a *physical store*. In physical store, the information provided by this system, can be used to arrange the items on the shelf so that the sales of those frequently bought together items can be increased.\n",
        "\n",
        "#### Libraries\n",
        "The following libraries will be used for this project.\n",
        "\n",
        "**PS**:* If the import fails, please install the appropriate modules using PIP install, before proceeding further.*\n",
        "\n",
        "\n"
      ]
    },
    {
      "cell_type": "code",
      "metadata": {
        "ExecuteTime": {
          "end_time": "2020-01-12T04:24:53.140407Z",
          "start_time": "2020-01-12T04:24:10.851517Z"
        },
        "id": "3IpPVt0Vw3ze"
      },
      "source": [
        "# Import libraries\n",
        "import pandas as pd\n",
        "import numpy as np\n",
        "import networkx as nx\n",
        "import matplotlib.pyplot as plt\n",
        "\n",
        "from datetime import datetime\n",
        "#from community import community_louvain\n",
        "\n",
        "from mlxtend.frequent_patterns import apriori, association_rules # APRIORI algo library\n",
        "\n",
        "from sklearn.pipeline import Pipeline\n",
        "\n",
        "import warnings\n",
        "warnings.filterwarnings('ignore')\n",
        "%matplotlib inline\n",
        "\n"
      ],
      "execution_count": 32,
      "outputs": []
    },
    {
      "cell_type": "markdown",
      "metadata": {
        "id": "UHy_qIGEw3zw"
      },
      "source": [
        "### Source Dataset"
      ]
    },
    {
      "cell_type": "markdown",
      "metadata": {
        "ExecuteTime": {
          "end_time": "2020-01-10T03:45:13.326132Z",
          "start_time": "2020-01-10T03:45:13.318085Z"
        },
        "id": "y7QYJgrSw3z1"
      },
      "source": [
        "For This Project, We Will Be Using The Online Retail Dataset, From Uci Repository; [Online-Retail](Http://Https://Archive.Ics.Uci.Edu/Ml/Datasets/Online+Retail).\n",
        "\n",
        "*The excel downloaded from UCI, has two tabs in it. This case study uses data from 2010 - 2011 tab.*\n",
        "\n",
        "A copy of which is stored in my github."
      ]
    },
    {
      "cell_type": "code",
      "metadata": {
        "ExecuteTime": {
          "end_time": "2020-01-12T04:28:29.862575Z",
          "start_time": "2020-01-12T04:24:53.151486Z"
        },
        "id": "7QGplMChw3z3"
      },
      "source": [
        "#Import data set\n",
        "df_in = pd.read_excel(\"https://raw.githubusercontent.com/sudeeshsukumaran/RetailRecommendationEngine/master/DSET/online_retail.xlsx\")"
      ],
      "execution_count": 33,
      "outputs": []
    },
    {
      "cell_type": "markdown",
      "metadata": {
        "id": "Pr5DbsrVw3z8"
      },
      "source": [
        "###  Exploratory Data Analysis\n",
        "Lets analyse the data and see, if it needs any further processing / cleansing, before we use it in our algorithm."
      ]
    },
    {
      "cell_type": "code",
      "metadata": {
        "ExecuteTime": {
          "end_time": "2020-01-12T04:28:29.992524Z",
          "start_time": "2020-01-12T04:28:29.870489Z"
        },
        "colab": {
          "base_uri": "https://localhost:8080/"
        },
        "id": "KYHvaOyHw3z-",
        "outputId": "2e1b2957-a0a9-4127-9069-20a5aa832870"
      },
      "source": [
        "df_in.shape"
      ],
      "execution_count": 34,
      "outputs": [
        {
          "output_type": "execute_result",
          "data": {
            "text/plain": [
              "(541910, 8)"
            ]
          },
          "metadata": {
            "tags": []
          },
          "execution_count": 34
        }
      ]
    },
    {
      "cell_type": "code",
      "metadata": {
        "ExecuteTime": {
          "end_time": "2020-01-12T04:28:30.476075Z",
          "start_time": "2020-01-12T04:28:29.999384Z"
        },
        "colab": {
          "base_uri": "https://localhost:8080/",
          "height": 284
        },
        "id": "3QuCuMLCw30C",
        "outputId": "ab8e6098-702d-402f-c709-974b2fbd6506"
      },
      "source": [
        "df_in.describe()"
      ],
      "execution_count": 35,
      "outputs": [
        {
          "output_type": "execute_result",
          "data": {
            "text/html": [
              "<div>\n",
              "<style scoped>\n",
              "    .dataframe tbody tr th:only-of-type {\n",
              "        vertical-align: middle;\n",
              "    }\n",
              "\n",
              "    .dataframe tbody tr th {\n",
              "        vertical-align: top;\n",
              "    }\n",
              "\n",
              "    .dataframe thead th {\n",
              "        text-align: right;\n",
              "    }\n",
              "</style>\n",
              "<table border=\"1\" class=\"dataframe\">\n",
              "  <thead>\n",
              "    <tr style=\"text-align: right;\">\n",
              "      <th></th>\n",
              "      <th>Quantity</th>\n",
              "      <th>Price</th>\n",
              "      <th>CustomerID</th>\n",
              "    </tr>\n",
              "  </thead>\n",
              "  <tbody>\n",
              "    <tr>\n",
              "      <th>count</th>\n",
              "      <td>541910.000000</td>\n",
              "      <td>541910.000000</td>\n",
              "      <td>406830.000000</td>\n",
              "    </tr>\n",
              "    <tr>\n",
              "      <th>mean</th>\n",
              "      <td>9.552234</td>\n",
              "      <td>4.611138</td>\n",
              "      <td>15287.684160</td>\n",
              "    </tr>\n",
              "    <tr>\n",
              "      <th>std</th>\n",
              "      <td>218.080957</td>\n",
              "      <td>96.759765</td>\n",
              "      <td>1713.603074</td>\n",
              "    </tr>\n",
              "    <tr>\n",
              "      <th>min</th>\n",
              "      <td>-80995.000000</td>\n",
              "      <td>-11062.060000</td>\n",
              "      <td>12346.000000</td>\n",
              "    </tr>\n",
              "    <tr>\n",
              "      <th>25%</th>\n",
              "      <td>1.000000</td>\n",
              "      <td>1.250000</td>\n",
              "      <td>13953.000000</td>\n",
              "    </tr>\n",
              "    <tr>\n",
              "      <th>50%</th>\n",
              "      <td>3.000000</td>\n",
              "      <td>2.080000</td>\n",
              "      <td>15152.000000</td>\n",
              "    </tr>\n",
              "    <tr>\n",
              "      <th>75%</th>\n",
              "      <td>10.000000</td>\n",
              "      <td>4.130000</td>\n",
              "      <td>16791.000000</td>\n",
              "    </tr>\n",
              "    <tr>\n",
              "      <th>max</th>\n",
              "      <td>80995.000000</td>\n",
              "      <td>38970.000000</td>\n",
              "      <td>18287.000000</td>\n",
              "    </tr>\n",
              "  </tbody>\n",
              "</table>\n",
              "</div>"
            ],
            "text/plain": [
              "            Quantity          Price     CustomerID\n",
              "count  541910.000000  541910.000000  406830.000000\n",
              "mean        9.552234       4.611138   15287.684160\n",
              "std       218.080957      96.759765    1713.603074\n",
              "min    -80995.000000  -11062.060000   12346.000000\n",
              "25%         1.000000       1.250000   13953.000000\n",
              "50%         3.000000       2.080000   15152.000000\n",
              "75%        10.000000       4.130000   16791.000000\n",
              "max     80995.000000   38970.000000   18287.000000"
            ]
          },
          "metadata": {
            "tags": []
          },
          "execution_count": 35
        }
      ]
    },
    {
      "cell_type": "code",
      "metadata": {
        "ExecuteTime": {
          "end_time": "2020-01-12T04:28:30.487996Z",
          "start_time": "2020-01-12T04:28:30.480005Z"
        },
        "colab": {
          "base_uri": "https://localhost:8080/"
        },
        "id": "f0T6Aamiw30G",
        "outputId": "0f11f3dc-35b9-4a27-e38f-7b43da1da78e"
      },
      "source": [
        "df_in.columns"
      ],
      "execution_count": 36,
      "outputs": [
        {
          "output_type": "execute_result",
          "data": {
            "text/plain": [
              "Index(['Invoice', 'StockCode', 'Description', 'Quantity', 'InvoiceDate',\n",
              "       'Price', 'CustomerID', 'Country'],\n",
              "      dtype='object')"
            ]
          },
          "metadata": {
            "tags": []
          },
          "execution_count": 36
        }
      ]
    },
    {
      "cell_type": "code",
      "metadata": {
        "ExecuteTime": {
          "end_time": "2020-01-12T04:28:30.603522Z",
          "start_time": "2020-01-12T04:28:30.490975Z"
        },
        "colab": {
          "base_uri": "https://localhost:8080/"
        },
        "id": "sHFe46ncw30H",
        "outputId": "b41039fe-db50-43f5-b8b7-54427ff147a2"
      },
      "source": [
        "# Min, Max dates in the dataframe\n",
        "print(\"Min timestamp in the dataset is \",  df_in.InvoiceDate.min())\n",
        "print(\"Max timestamp in the dataset is \",  df_in.InvoiceDate.max())"
      ],
      "execution_count": 37,
      "outputs": [
        {
          "output_type": "stream",
          "text": [
            "Min timestamp in the dataset is  2010-12-01 08:26:00\n",
            "Max timestamp in the dataset is  2011-12-09 12:50:00\n"
          ],
          "name": "stdout"
        }
      ]
    },
    {
      "cell_type": "code",
      "metadata": {
        "ExecuteTime": {
          "end_time": "2020-01-12T04:28:30.692979Z",
          "start_time": "2020-01-12T04:28:30.610503Z"
        },
        "colab": {
          "base_uri": "https://localhost:8080/"
        },
        "id": "eUHGON16w30I",
        "outputId": "a0aa44fe-1f5f-48a9-c73a-b0f6beea514b"
      },
      "source": [
        "# Number of invoices in the dataframe\n",
        "print(\"Number of Invoices in the dataframe = \", len(df_in.Invoice.unique()))"
      ],
      "execution_count": 38,
      "outputs": [
        {
          "output_type": "stream",
          "text": [
            "Number of Invoices in the dataframe =  25900\n"
          ],
          "name": "stdout"
        }
      ]
    },
    {
      "cell_type": "code",
      "metadata": {
        "ExecuteTime": {
          "end_time": "2020-01-12T04:28:31.099568Z",
          "start_time": "2020-01-12T04:28:30.702044Z"
        },
        "colab": {
          "base_uri": "https://localhost:8080/"
        },
        "id": "WSTNAYf7w30K",
        "outputId": "5f960f9e-d5a1-4118-ff6d-d79febd66178"
      },
      "source": [
        "df_in.isnull().sum()"
      ],
      "execution_count": 39,
      "outputs": [
        {
          "output_type": "execute_result",
          "data": {
            "text/plain": [
              "Invoice             0\n",
              "StockCode           0\n",
              "Description      1454\n",
              "Quantity            0\n",
              "InvoiceDate         0\n",
              "Price               0\n",
              "CustomerID     135080\n",
              "Country             0\n",
              "dtype: int64"
            ]
          },
          "metadata": {
            "tags": []
          },
          "execution_count": 39
        }
      ]
    },
    {
      "cell_type": "code",
      "metadata": {
        "ExecuteTime": {
          "end_time": "2020-01-12T04:28:31.130033Z",
          "start_time": "2020-01-12T04:28:31.105548Z"
        },
        "colab": {
          "base_uri": "https://localhost:8080/"
        },
        "id": "CHlV-Po9w30O",
        "outputId": "ccb5fb63-d01d-42c9-ac71-9971c1d51e15"
      },
      "source": [
        "# Count number of invoices that do not have customer id\n",
        "l1=df_in['Invoice'][df_in['CustomerID'].isnull()]\n",
        "print(\"Number of invoices that do not have customer id = \", len(l1.unique()))\n"
      ],
      "execution_count": 40,
      "outputs": [
        {
          "output_type": "stream",
          "text": [
            "Number of invoices that do not have customer id =  3710\n"
          ],
          "name": "stdout"
        }
      ]
    },
    {
      "cell_type": "code",
      "metadata": {
        "ExecuteTime": {
          "end_time": "2020-01-12T04:28:31.237867Z",
          "start_time": "2020-01-12T04:28:31.132746Z"
        },
        "colab": {
          "base_uri": "https://localhost:8080/"
        },
        "id": "9NRIAP2hw30P",
        "outputId": "f197b385-5213-40c0-c0e3-569d57c06e71"
      },
      "source": [
        "len(df_in['Country'].unique())"
      ],
      "execution_count": 41,
      "outputs": [
        {
          "output_type": "execute_result",
          "data": {
            "text/plain": [
              "38"
            ]
          },
          "metadata": {
            "tags": []
          },
          "execution_count": 41
        }
      ]
    },
    {
      "cell_type": "code",
      "metadata": {
        "ExecuteTime": {
          "end_time": "2020-01-12T04:28:31.333062Z",
          "start_time": "2020-01-12T04:28:31.240860Z"
        },
        "colab": {
          "base_uri": "https://localhost:8080/"
        },
        "id": "ivp1v5CMw30Q",
        "outputId": "c67fcafd-3d92-4854-9ed4-ce0f9642ca0c"
      },
      "source": [
        "df_in['Country'].unique()"
      ],
      "execution_count": 42,
      "outputs": [
        {
          "output_type": "execute_result",
          "data": {
            "text/plain": [
              "array(['United Kingdom', 'France', 'Australia', 'Netherlands', 'Germany',\n",
              "       'Norway', 'EIRE', 'Switzerland', 'Spain', 'Poland', 'Portugal',\n",
              "       'Italy', 'Belgium', 'Lithuania', 'Japan', 'Iceland',\n",
              "       'Channel Islands', 'Denmark', 'Cyprus', 'Sweden', 'Austria',\n",
              "       'Israel', 'Finland', 'Bahrain', 'Greece', 'Hong Kong', 'Singapore',\n",
              "       'Lebanon', 'United Arab Emirates', 'Saudi Arabia',\n",
              "       'Czech Republic', 'Canada', 'Unspecified', 'Brazil', 'USA',\n",
              "       'European Community', 'Malta', 'RSA'], dtype=object)"
            ]
          },
          "metadata": {
            "tags": []
          },
          "execution_count": 42
        }
      ]
    },
    {
      "cell_type": "code",
      "metadata": {
        "ExecuteTime": {
          "end_time": "2020-01-12T04:28:32.168971Z",
          "start_time": "2020-01-12T04:28:31.337561Z"
        },
        "colab": {
          "base_uri": "https://localhost:8080/",
          "height": 295
        },
        "id": "7EtmFRoHw30T",
        "outputId": "bc7698be-e679-4d02-932e-b49f3d707c5c"
      },
      "source": [
        "new_df = df_in.groupby(['Country'])['Quantity'].sum().reset_index()\n",
        "new_df = new_df.sort_values(by = ['Quantity'], ascending=False)\n",
        "x = new_df['Country'].head(10)\n",
        "y = new_df['Quantity'].head(10) #.plot.barh\n",
        "plt.barh(x,y)"
      ],
      "execution_count": 43,
      "outputs": [
        {
          "output_type": "execute_result",
          "data": {
            "text/plain": [
              "<BarContainer object of 10 artists>"
            ]
          },
          "metadata": {
            "tags": []
          },
          "execution_count": 43
        },
        {
          "output_type": "display_data",
          "data": {
            "image/png": "[encoded data removed]",
            "text/plain": [
              "<Figure size 432x288 with 1 Axes>"
            ]
          },
          "metadata": {
            "tags": [],
            "needs_background": "light"
          }
        }
      ]
    },
    {
      "cell_type": "code",
      "metadata": {
        "ExecuteTime": {
          "end_time": "2020-01-12T04:28:32.222637Z",
          "start_time": "2020-01-12T04:28:32.176369Z"
        },
        "colab": {
          "base_uri": "https://localhost:8080/"
        },
        "id": "bZ85avMow30V",
        "outputId": "ef01b6d4-d2be-4d91-cfb5-5769d9d4ad0e"
      },
      "source": [
        "print(\"Most items shipped to UK, number of items\")\n",
        "print(new_df[new_df['Country'] == \"United Kingdom\"])\n",
        "print(\"\\nSecond most items shipped to UK, number of items\")\n",
        "print(new_df[new_df['Country'] == \"Netherlands\"])"
      ],
      "execution_count": 44,
      "outputs": [
        {
          "output_type": "stream",
          "text": [
            "Most items shipped to UK, number of items\n",
            "           Country  Quantity\n",
            "36  United Kingdom   4263829\n",
            "\n",
            "Second most items shipped to UK, number of items\n",
            "        Country  Quantity\n",
            "24  Netherlands    200128\n"
          ],
          "name": "stdout"
        }
      ]
    },
    {
      "cell_type": "code",
      "metadata": {
        "ExecuteTime": {
          "end_time": "2020-01-12T04:28:32.493651Z",
          "start_time": "2020-01-12T04:28:32.230653Z"
        },
        "colab": {
          "base_uri": "https://localhost:8080/"
        },
        "id": "iVEey8bSw30W",
        "outputId": "f72e6410-905f-4f33-f4b5-d731005d1bc5"
      },
      "source": [
        "# Postage as items\n",
        "print(\"Number of postage as items in the invoices = \", df_in['Invoice'][df_in['Description'] == 'POSTAGE'].count())"
      ],
      "execution_count": 45,
      "outputs": [
        {
          "output_type": "stream",
          "text": [
            "Number of postage as items in the invoices =  1253\n"
          ],
          "name": "stdout"
        }
      ]
    },
    {
      "cell_type": "code",
      "metadata": {
        "ExecuteTime": {
          "end_time": "2020-01-12T04:28:32.718669Z",
          "start_time": "2020-01-12T04:28:32.500632Z"
        },
        "colab": {
          "base_uri": "https://localhost:8080/"
        },
        "id": "6bSnkYJiw30X",
        "outputId": "88843580-759d-4a3e-a82c-25c18e1bd4a6"
      },
      "source": [
        "# Postage as items\n",
        "print(\"Number of mailout as items in the invoices = \", df_in['Invoice'][df_in['Description'] == 'mailout'].count())"
      ],
      "execution_count": 46,
      "outputs": [
        {
          "output_type": "stream",
          "text": [
            "Number of mailout as items in the invoices =  3\n"
          ],
          "name": "stdout"
        }
      ]
    },
    {
      "cell_type": "code",
      "metadata": {
        "ExecuteTime": {
          "end_time": "2020-01-12T04:28:32.818830Z",
          "start_time": "2020-01-12T04:28:32.726362Z"
        },
        "colab": {
          "base_uri": "https://localhost:8080/"
        },
        "id": "8yztkvlRw30a",
        "outputId": "c780effc-676d-46ec-8eee-fe02abda3d65"
      },
      "source": [
        "# Postage as items\n",
        "print(\"Number of Returns = \", df_in['Invoice'][df_in['Quantity'] < 0].count())"
      ],
      "execution_count": 47,
      "outputs": [
        {
          "output_type": "stream",
          "text": [
            "Number of Returns =  10624\n"
          ],
          "name": "stdout"
        }
      ]
    },
    {
      "cell_type": "markdown",
      "metadata": {
        "id": "PXuKj3E2w30k"
      },
      "source": [
        "The dataset contains **541,910** rows and **8** columns / features.\n",
        "Following columns are present in dataframe:\n",
        "1. \t\t*Invoice*\n",
        "2. \t\t*StockCode*\n",
        "3. \t\t*Description*\n",
        "4. \t\t*Quantity*\n",
        "5. \t\t*InvoiceDate*\n",
        "6. \t\t*Price*\n",
        "7. \t\t*CustomerID*\n",
        "8. \t\t*Country*\n",
        "\n",
        "The dataset  :\n",
        "- has invoices from **2010-12-01** till **2011-12-09**\n",
        "- has **25,900** unique invoices\n",
        "- has **1454** null values in the **Description** field\n",
        "- has **135,080** nulls **customer id** field\n",
        "- has customers, who are from **38** different **countries**\n",
        "- has **most items shipped to UK** based customers. Items more than **4M** has shipped to UK customers. Items to other countries are very negligible, second most number of  quantity is **200K**, shipped to **Netherlands**.\n",
        "- has **1253** records that are for Postage, which we can remove.\n",
        "- has **10K** records that have negative quantity, probably returns, which we can ignore as well.\n"
      ]
    },
    {
      "cell_type": "markdown",
      "metadata": {
        "id": "Ho8CZv2ww30l"
      },
      "source": [
        "### Data Pre-Processing\n",
        "From our data analysis, we will:\n",
        "- **fix null description records**, either, using it from other records or by dropping them\n",
        "- **remove 'Postage'** records\n",
        "- **remove 'mailout'** records\n",
        "- remove refund items with **Quantity < 0**\n"
      ]
    },
    {
      "cell_type": "markdown",
      "metadata": {
        "ExecuteTime": {
          "end_time": "2020-01-10T11:26:11.727549Z",
          "start_time": "2020-01-10T11:26:11.718573Z"
        },
        "id": "Ajl3q9dMw30m"
      },
      "source": [
        "### Functions\n",
        "The data pre-processing steps need to be repeated, if we are going to load new invoices and create new rulesets. Hence making the steps as functions. so we can call them, when needed instead of re-coding."
      ]
    },
    {
      "cell_type": "code",
      "metadata": {
        "ExecuteTime": {
          "end_time": "2020-01-12T04:28:32.883618Z",
          "start_time": "2020-01-12T04:28:32.828722Z"
        },
        "id": "D4DDPPRaw30n"
      },
      "source": [
        "# Clean Description Field\n",
        "#        1. Use the description from other rows using StockCode\n",
        "#        2. Delete rows where we are not able to find desc, using stockcode\n",
        "\n",
        "def fix_null_desc():\n",
        "    # StockCode Description CrossWalk\n",
        "    print(\"\\nFixing Null Values for Description field....\")\n",
        "    ticw = pd.notnull(df['Description'])# ----> Creates a series with 'True', if not null values in Description,\n",
        "                                        #                             'False' if null values.\n",
        "\n",
        "    icw = df[ticw] # ----> Create a lookup with not null description\n",
        "    labels=list(df.columns)\n",
        "    labels.remove('StockCode')\n",
        "    labels.remove('Description')\n",
        "    labels\n",
        "    icw=icw.drop(columns=labels)\n",
        "    \n",
        "    icwd=icw.drop_duplicates(subset='StockCode') #----> Store only Unique StockCodes and its descriptions\n",
        "    \n",
        "    c1=df['Description'].isnull().sum()\n",
        "\n",
        "    df['Description'] = df['StockCode'].map(icwd.set_index('StockCode')['Description']) # --> Use the lookup to replace nulls with available descriptions.\n",
        "    \n",
        "    c2=df['Description'].isnull().sum()\n",
        "\n",
        "    print('Null values are replaced with existing descriptions with same StockCode: Count = ', c1 - c2)\n",
        "    \n",
        "    df.drop(df[df['Description'].isnull()].index,inplace=True)\n",
        "    \n",
        "    c3=df['Description'].isnull().sum()\n",
        "\n",
        "    print('Rows with null value Descriptions are dropped after lookup failed to match description: Count = ', c2 - c3)\n",
        "    \n",
        "    return\n",
        "    "
      ],
      "execution_count": 48,
      "outputs": []
    },
    {
      "cell_type": "code",
      "metadata": {
        "ExecuteTime": {
          "end_time": "2020-01-12T04:28:32.960472Z",
          "start_time": "2020-01-12T04:28:32.889600Z"
        },
        "id": "mstpef8dw30t"
      },
      "source": [
        "# Remove Postage records\n",
        "\n",
        "def drop_postage():\n",
        "    \n",
        "    print(\"\\nDropping POSTAGE as items from the invoices....\")\n",
        "\n",
        "    b1 = len(df['Description'] == \"POSTAGE\")\n",
        "    df.drop(df[df['Description'] == \"POSTAGE\"].index,inplace=True)\n",
        "    b2 = len(df['Description'] == \"POSTAGE\")\n",
        "    print(\"Number of records, with POSTAGE as Description, dropped = \", b1 - b2)\n",
        "    return()"
      ],
      "execution_count": 49,
      "outputs": []
    },
    {
      "cell_type": "code",
      "metadata": {
        "ExecuteTime": {
          "end_time": "2020-01-12T04:28:33.027447Z",
          "start_time": "2020-01-12T04:28:32.967491Z"
        },
        "id": "hU7tDTpJw30z"
      },
      "source": [
        "# Remove Postage records\n",
        "\n",
        "def drop_mailout():\n",
        "    \n",
        "    print(\"\\nDropping mailout as items from the invoices....\")\n",
        "\n",
        "    b1 = len(df['Description'] == \"mailout\")\n",
        "    df.drop(df[df['Description'] == \"mailout\"].index,inplace=True)\n",
        "    b2 = len(df['Description'] == \"mailout\")\n",
        "    print(\"Number of records, with mailout as Description, dropped = \", b1 - b2)\n",
        "    return()"
      ],
      "execution_count": 50,
      "outputs": []
    },
    {
      "cell_type": "code",
      "metadata": {
        "ExecuteTime": {
          "end_time": "2020-01-12T04:28:33.141563Z",
          "start_time": "2020-01-12T04:28:33.032561Z"
        },
        "id": "Ch-2DfRbw308"
      },
      "source": [
        "# Remove Postage records\n",
        "\n",
        "def remove_refund():\n",
        "    \n",
        "    print(\"\\nRemoving Refund Entries from Invoice....\")\n",
        "\n",
        "    b1 = len(df['Quantity'] < 0)\n",
        "    df.drop(df[df['Quantity'] < 0].index,inplace=True)\n",
        "    b2 = len(df['Quantity'] < 0)\n",
        "    print(\"Number of records, with Quantity < 0, dropped = \", b1-b2)\n",
        "    return()"
      ],
      "execution_count": 51,
      "outputs": []
    },
    {
      "cell_type": "code",
      "metadata": {
        "ExecuteTime": {
          "end_time": "2020-01-12T04:28:33.273425Z",
          "start_time": "2020-01-12T04:28:33.149560Z"
        },
        "id": "CVUUIMpzw309"
      },
      "source": [
        "# Defining the hot encoding function to make the data suitable for the concerned libraries \n",
        "def hot_encode(x): \n",
        "    if(x<= 0): \n",
        "        return 0\n",
        "    if(x>= 1): \n",
        "        return 1"
      ],
      "execution_count": 52,
      "outputs": []
    },
    {
      "cell_type": "code",
      "metadata": {
        "ExecuteTime": {
          "end_time": "2020-01-12T04:28:33.378939Z",
          "start_time": "2020-01-12T04:28:33.283682Z"
        },
        "id": "Y0IIaWICw309"
      },
      "source": [
        "def first_time_build():\n",
        "    print(\"\\nRecommendation System initial build started..\",datetime.now().strftime(\"%d-%m-%Y %H:%M:%S\"))\n",
        "    basket = (df \n",
        "          .groupby(['Invoice', 'Description'])['Quantity'] \n",
        "          .sum().unstack().reset_index().fillna(0) \n",
        "          .set_index('Invoice'))\n",
        "    \n",
        "    basket_encoded = basket.applymap(hot_encode)\n",
        "    basket = basket_encoded\n",
        "    \n",
        "    print(\"\\nData encoding completed..\",datetime.now().strftime(\"%d-%m-%Y %H:%M:%S\"))\n",
        "    print(\"\\nApriori Model building - Started: \", datetime.now().strftime(\"%d-%m-%Y %H:%M:%S\"))\n",
        "    \n",
        "    # Building the model\n",
        "    frq_items = apriori(basket, min_support = 0.02, use_colnames = True)\n",
        "    \n",
        "    print(\"Apriori Model building - Completed: \", datetime.now().strftime(\"%d-%m-%Y %H:%M:%S\"))\n",
        "    print(\"\\nAssociation rules build Started:\", datetime.now().strftime(\"%d-%m-%Y %H:%M:%S\"))\n",
        "    \n",
        "    # Collecting the inferred rules in a dataframe\n",
        "    rules = association_rules(frq_items, metric =\"lift\", min_threshold = 1)\n",
        "    rules = rules.sort_values(['confidence', 'lift'], ascending =[False, False])\n",
        "    rules.head()\n",
        "    print(\"Association rules build completed:\", datetime.now().strftime(\"%d-%m-%Y %H:%M:%S\"))\n",
        "    \n",
        "    rules[\"str_antecedents\"] = rules[\"antecedents\"].apply(lambda x: list(x)[0]).astype(\"unicode\")\n",
        "    rules[\"str_consequents\"] = rules[\"consequents\"].apply(lambda x: list(x)[0]).astype(\"unicode\")\n",
        "    \n",
        "    sh1=rules.shape\n",
        "    print(\"\\nNumber of Rules Created = \", sh1[0])\n",
        "\n",
        "    return rules"
      ],
      "execution_count": 53,
      "outputs": []
    },
    {
      "cell_type": "code",
      "metadata": {
        "ExecuteTime": {
          "end_time": "2020-01-12T04:28:33.527407Z",
          "start_time": "2020-01-12T04:28:33.409523Z"
        },
        "id": "GpLf0y-8w30_"
      },
      "source": [
        "def subsequent_time_build(rules):\n",
        "    print(\"\\nRecommendation System update started..\",datetime.now().strftime(\"%d-%m-%Y %H:%M:%S\"))\n",
        "    basket = (df \n",
        "          .groupby(['Invoice', 'Description'])['Quantity'] \n",
        "          .sum().unstack().reset_index().fillna(0)\n",
        "          .set_index('Invoice'))\n",
        "    \n",
        "    basket_encoded = basket.applymap(hot_encode)\n",
        "    basket = basket_encoded\n",
        "    \n",
        "    print(\"\\nData encoding completed..\",datetime.now().strftime(\"%d-%m-%Y %H:%M:%S\"))\n",
        "    print(\"\\nApriori Model building - Started: \", datetime.now().strftime(\"%d-%m-%Y %H:%M:%S\"))\n",
        "    \n",
        "    # Building the model\n",
        "    frq_items = apriori(basket, min_support = 0.02, use_colnames = True)\n",
        "    \n",
        "    print(\"Apriori Model building - Completed: \", datetime.now().strftime(\"%d-%m-%Y %H:%M:%S\"))\n",
        "    print(\"\\nAssociation rules build Started:\", datetime.now().strftime(\"%d-%m-%Y %H:%M:%S\"))\n",
        "    \n",
        "    # Collecting the inferred rules in a dataframe\n",
        "    rules_sub = association_rules(frq_items, metric =\"lift\", min_threshold = 1)\n",
        "    rules_sub[\"str_antecedents\"] = rules_sub[\"antecedents\"].apply(lambda x: list(x)[0]).astype(\"unicode\")\n",
        "    rules_sub[\"str_consequents\"] = rules_sub[\"consequents\"].apply(lambda x: list(x)[0]).astype(\"unicode\")\n",
        "    \n",
        "    sh=rules_sub.shape\n",
        "    \n",
        "    rules = rules.append(rules_sub)\n",
        "    rules = rules.sort_values(['confidence', 'lift'], ascending =[False, False])\n",
        "\n",
        "    print(\"Association rules build completed:\", datetime.now().strftime(\"%d-%m-%Y %H:%M:%S\"))\n",
        "    print(\"Number of rules updated = \", sh[0])\n",
        "    \n",
        "    sh=rules.shape\n",
        "    print(\"\\n\")\n",
        "    print(\"Total Number of rules available = \", sh[0])\n",
        "    return rules"
      ],
      "execution_count": 54,
      "outputs": []
    },
    {
      "cell_type": "markdown",
      "metadata": {
        "id": "lxWMTRInw31B"
      },
      "source": [
        "### Execution & Creating the Engine\n",
        "After we compiled our functions, lets execute the steps in right sequence to do pre-processing and create the engine."
      ]
    },
    {
      "cell_type": "code",
      "metadata": {
        "ExecuteTime": {
          "end_time": "2020-01-12T04:30:35.045495Z",
          "start_time": "2020-01-12T04:28:33.531878Z"
        },
        "colab": {
          "base_uri": "https://localhost:8080/"
        },
        "id": "_LK8Yb7Dw31B",
        "outputId": "6758768e-936c-4291-c0fe-02d6ff3d1708"
      },
      "source": [
        "df = df_in.copy()\n",
        "\n",
        "fix_null_desc()\n",
        "drop_postage()\n",
        "drop_mailout()\n",
        "remove_refund()\n",
        "\n",
        "rules_df=first_time_build()"
      ],
      "execution_count": 55,
      "outputs": [
        {
          "output_type": "stream",
          "text": [
            "\n",
            "Fixing Null Values for Description field....\n",
            "Null values are replaced with existing descriptions with same StockCode: Count =  1342\n",
            "Rows with null value Descriptions are dropped after lookup failed to match description: Count =  112\n",
            "\n",
            "Dropping POSTAGE as items from the invoices....\n",
            "Number of records, with POSTAGE as Description, dropped =  1257\n",
            "\n",
            "Dropping mailout as items from the invoices....\n",
            "Number of records, with mailout as Description, dropped =  3298\n",
            "\n",
            "Removing Refund Entries from Invoice....\n",
            "Number of records, with Quantity < 0, dropped =  10367\n",
            "\n",
            "Recommendation System initial build started.. 02-02-2021 08:24:35\n",
            "\n",
            "Data encoding completed.. 02-02-2021 08:24:59\n",
            "\n",
            "Apriori Model building - Started:  02-02-2021 08:24:59\n",
            "Apriori Model building - Completed:  02-02-2021 08:25:06\n",
            "\n",
            "Association rules build Started: 02-02-2021 08:25:06\n",
            "Association rules build completed: 02-02-2021 08:25:06\n",
            "\n",
            "Number of Rules Created =  160\n"
          ],
          "name": "stdout"
        }
      ]
    },
    {
      "cell_type": "markdown",
      "metadata": {
        "ExecuteTime": {
          "end_time": "2020-01-10T12:08:27.950871Z",
          "start_time": "2020-01-10T12:08:27.945885Z"
        },
        "id": "eufZ5HcTw31C"
      },
      "source": [
        "Following is the network graph for the association rules created."
      ]
    },
    {
      "cell_type": "code",
      "metadata": {
        "ExecuteTime": {
          "end_time": "2020-01-12T04:30:36.334480Z",
          "start_time": "2020-01-12T04:30:35.049065Z"
        },
        "colab": {
          "base_uri": "https://localhost:8080/",
          "height": 357
        },
        "id": "4rp_pTwgw31F",
        "outputId": "a42086e0-2503-4c4d-fb80-56bc2c1494c3"
      },
      "source": [
        "import networkx as nx\n",
        "rules_df.antecedents  =  rules_df.antecedents.apply(lambda x: next(iter(x)))\n",
        "rules_df.consequents  =  rules_df.consequents.apply(lambda x: next(iter(x)))\n",
        "fig, ax = plt.subplots(figsize = (15,6))\n",
        "GA = nx.from_pandas_edgelist(rules_df,source = 'antecedents',target = 'consequents')\n",
        "nx.draw(GA,with_labels = True)"
      ],
      "execution_count": 56,
      "outputs": [
        {
          "output_type": "display_data",
          "data": {
            "image/png": "[encoded data removed]",
            "text/plain": [
              "<Figure size 1080x432 with 1 Axes>"
            ]
          },
          "metadata": {
            "tags": []
          }
        }
      ]
    },
    {
      "cell_type": "markdown",
      "metadata": {
        "id": "E2bxfW4Fw31G"
      },
      "source": [
        "### Testing\n",
        "Now that we built the model, lets test the recommendation using \"***PINK REGENCY TEACUP AND SAUCER***\" as an item in our cart.\n"
      ]
    },
    {
      "cell_type": "code",
      "metadata": {
        "ExecuteTime": {
          "end_time": "2020-01-12T04:30:36.357420Z",
          "start_time": "2020-01-12T04:30:36.339435Z"
        },
        "colab": {
          "base_uri": "https://localhost:8080/"
        },
        "id": "pN95Gk5iw31G",
        "outputId": "806429ef-9e06-4488-8ff6-1ac2334b8d59"
      },
      "source": [
        "cart = \"PINK REGENCY TEACUP AND SAUCER\"\n",
        "recomm_list=rules_df['str_consequents'][rules_df['str_antecedents'] == cart].unique()\n",
        "re_list = \" \"\n",
        "\n",
        "for i in range(len(recomm_list)):\n",
        "    cnt = len(recomm_list) - 1\n",
        "    if i < cnt:\n",
        "        re_list = re_list + (recomm_list[i]) + \", \"\n",
        "    else:\n",
        "        re_list = re_list + \"& \" + (recomm_list[i])\n",
        "        \n",
        "print(\"Customers who bought {}, also bought{}\".format(cart,re_list))"
      ],
      "execution_count": 57,
      "outputs": [
        {
          "output_type": "stream",
          "text": [
            "Customers who bought PINK REGENCY TEACUP AND SAUCER, also bought GREEN REGENCY TEACUP AND SAUCER, & ROSES REGENCY TEACUP AND SAUCER \n"
          ],
          "name": "stdout"
        }
      ]
    },
    {
      "cell_type": "markdown",
      "metadata": {
        "ExecuteTime": {
          "end_time": "2020-01-10T12:19:58.801943Z",
          "start_time": "2020-01-10T12:19:58.795959Z"
        },
        "id": "-ppdr27pw31H"
      },
      "source": [
        "**Result**: When the item \"Pink Regency Teacup and Saucer\" is added the engine recommends to buy \"Green Regency Teacup And Saucer, & Roses Regency Teacup And Saucer\"."
      ]
    },
    {
      "cell_type": "markdown",
      "metadata": {
        "id": "uS0HBkcOw31H"
      },
      "source": [
        "### Maintenance\n",
        "\n",
        "When the retail shop continues its online presence using this recommendation algorithm, it is necessary that we update new invoice data regularly so that association rules are updated frequently and recommendation actualy makes some sense, in buying items together.\n",
        "\n",
        "In the original data from the UCI repository, there is a tab that has data for 2009. We will load the data ad update the rules that we just created.\n"
      ]
    },
    {
      "cell_type": "code",
      "metadata": {
        "ExecuteTime": {
          "end_time": "2020-01-12T04:33:31.787532Z",
          "start_time": "2020-01-12T04:30:36.360402Z"
        },
        "id": "R7ur9QcYw31I"
      },
      "source": [
        "#Import data set\n",
        "df_in2 = pd.read_excel(\"https://raw.githubusercontent.com/sudeeshsukumaran/RetailRecommendationEngine/master/DSET/online_retail_b.xlsx\")"
      ],
      "execution_count": 58,
      "outputs": []
    },
    {
      "cell_type": "markdown",
      "metadata": {
        "id": "t9f_2WBIw31M"
      },
      "source": [
        "We will be using the same steps that we create the initial rules. Once the rules are created, we will update the new rules to the existing rules."
      ]
    },
    {
      "cell_type": "code",
      "metadata": {
        "ExecuteTime": {
          "end_time": "2020-01-12T04:35:31.231602Z",
          "start_time": "2020-01-12T04:33:31.792516Z"
        },
        "colab": {
          "base_uri": "https://localhost:8080/"
        },
        "id": "6VmgRI6mw31M",
        "outputId": "7bd8dbf2-5732-401a-df1e-7d7de6c53187"
      },
      "source": [
        "df = df_in2.copy()\n",
        "\n",
        "fix_null_desc()\n",
        "drop_postage()\n",
        "drop_mailout()\n",
        "remove_refund()\n",
        "\n",
        "rules_df=subsequent_time_build(rules_df)"
      ],
      "execution_count": 59,
      "outputs": [
        {
          "output_type": "stream",
          "text": [
            "\n",
            "Fixing Null Values for Description field....\n",
            "Null values are replaced with existing descriptions with same StockCode: Count =  2563\n",
            "Rows with null value Descriptions are dropped after lookup failed to match description: Count =  365\n",
            "\n",
            "Dropping POSTAGE as items from the invoices....\n",
            "Number of records, with POSTAGE as Description, dropped =  865\n",
            "\n",
            "Dropping mailout as items from the invoices....\n",
            "Number of records, with mailout as Description, dropped =  872\n",
            "\n",
            "Removing Refund Entries from Invoice....\n",
            "Number of records, with Quantity < 0, dropped =  11895\n",
            "\n",
            "Recommendation System update started.. 02-02-2021 08:25:37\n",
            "\n",
            "Data encoding completed.. 02-02-2021 08:26:05\n",
            "\n",
            "Apriori Model building - Started:  02-02-2021 08:26:05\n",
            "Apriori Model building - Completed:  02-02-2021 08:26:11\n",
            "\n",
            "Association rules build Started: 02-02-2021 08:26:11\n",
            "Association rules build completed: 02-02-2021 08:26:11\n",
            "Number of rules updated =  84\n",
            "\n",
            "\n",
            "Total Number of rules available =  244\n"
          ],
          "name": "stdout"
        }
      ]
    },
    {
      "cell_type": "code",
      "metadata": {
        "ExecuteTime": {
          "end_time": "2020-01-12T04:35:31.291944Z",
          "start_time": "2020-01-12T04:35:31.238138Z"
        },
        "colab": {
          "base_uri": "https://localhost:8080/",
          "height": 363
        },
        "id": "chCRrlVRw31N",
        "outputId": "2e313c0b-e794-4463-e810-531ce564479d"
      },
      "source": [
        "rules_df.head()"
      ],
      "execution_count": 60,
      "outputs": [
        {
          "output_type": "execute_result",
          "data": {
            "text/html": [
              "<div>\n",
              "<style scoped>\n",
              "    .dataframe tbody tr th:only-of-type {\n",
              "        vertical-align: middle;\n",
              "    }\n",
              "\n",
              "    .dataframe tbody tr th {\n",
              "        vertical-align: top;\n",
              "    }\n",
              "\n",
              "    .dataframe thead th {\n",
              "        text-align: right;\n",
              "    }\n",
              "</style>\n",
              "<table border=\"1\" class=\"dataframe\">\n",
              "  <thead>\n",
              "    <tr style=\"text-align: right;\">\n",
              "      <th></th>\n",
              "      <th>antecedents</th>\n",
              "      <th>consequents</th>\n",
              "      <th>antecedent support</th>\n",
              "      <th>consequent support</th>\n",
              "      <th>support</th>\n",
              "      <th>confidence</th>\n",
              "      <th>lift</th>\n",
              "      <th>leverage</th>\n",
              "      <th>conviction</th>\n",
              "      <th>str_antecedents</th>\n",
              "      <th>str_consequents</th>\n",
              "    </tr>\n",
              "  </thead>\n",
              "  <tbody>\n",
              "    <tr>\n",
              "      <th>150</th>\n",
              "      <td>PINK REGENCY TEACUP AND SAUCER</td>\n",
              "      <td>GREEN REGENCY TEACUP AND SAUCER</td>\n",
              "      <td>0.029041</td>\n",
              "      <td>0.049210</td>\n",
              "      <td>0.026278</td>\n",
              "      <td>0.904841</td>\n",
              "      <td>18.387447</td>\n",
              "      <td>0.024848</td>\n",
              "      <td>9.991638</td>\n",
              "      <td>PINK REGENCY TEACUP AND SAUCER</td>\n",
              "      <td>GREEN REGENCY TEACUP AND SAUCER</td>\n",
              "    </tr>\n",
              "    <tr>\n",
              "      <th>148</th>\n",
              "      <td>PINK REGENCY TEACUP AND SAUCER</td>\n",
              "      <td>ROSES REGENCY TEACUP AND SAUCER</td>\n",
              "      <td>0.030689</td>\n",
              "      <td>0.051682</td>\n",
              "      <td>0.026278</td>\n",
              "      <td>0.856240</td>\n",
              "      <td>16.567363</td>\n",
              "      <td>0.024691</td>\n",
              "      <td>6.596539</td>\n",
              "      <td>PINK REGENCY TEACUP AND SAUCER</td>\n",
              "      <td>ROSES REGENCY TEACUP AND SAUCER</td>\n",
              "    </tr>\n",
              "    <tr>\n",
              "      <th>22</th>\n",
              "      <td>PINK REGENCY TEACUP AND SAUCER</td>\n",
              "      <td>GREEN REGENCY TEACUP AND SAUCER</td>\n",
              "      <td>0.037138</td>\n",
              "      <td>0.049210</td>\n",
              "      <td>0.030689</td>\n",
              "      <td>0.826371</td>\n",
              "      <td>16.792831</td>\n",
              "      <td>0.028862</td>\n",
              "      <td>5.475980</td>\n",
              "      <td>PINK REGENCY TEACUP AND SAUCER</td>\n",
              "      <td>GREEN REGENCY TEACUP AND SAUCER</td>\n",
              "    </tr>\n",
              "    <tr>\n",
              "      <th>155</th>\n",
              "      <td>JUMBO BAG PINK POLKADOT</td>\n",
              "      <td>JUMBO BAG RED RETROSPOT</td>\n",
              "      <td>0.024968</td>\n",
              "      <td>0.101425</td>\n",
              "      <td>0.020023</td>\n",
              "      <td>0.801942</td>\n",
              "      <td>7.906716</td>\n",
              "      <td>0.017491</td>\n",
              "      <td>4.536921</td>\n",
              "      <td>JUMBO BAG PINK POLKADOT</td>\n",
              "      <td>JUMBO BAG RED RETROSPOT</td>\n",
              "    </tr>\n",
              "    <tr>\n",
              "      <th>73</th>\n",
              "      <td>(SWEETHEART CERAMIC TRINKET BOX)</td>\n",
              "      <td>(STRAWBERRY CERAMIC TRINKET BOX)</td>\n",
              "      <td>0.045599</td>\n",
              "      <td>0.074708</td>\n",
              "      <td>0.036261</td>\n",
              "      <td>0.795205</td>\n",
              "      <td>10.644107</td>\n",
              "      <td>0.032854</td>\n",
              "      <td>4.518131</td>\n",
              "      <td>SWEETHEART CERAMIC TRINKET BOX</td>\n",
              "      <td>STRAWBERRY CERAMIC TRINKET BOX</td>\n",
              "    </tr>\n",
              "  </tbody>\n",
              "</table>\n",
              "</div>"
            ],
            "text/plain": [
              "                          antecedents  ...                   str_consequents\n",
              "150    PINK REGENCY TEACUP AND SAUCER  ...   GREEN REGENCY TEACUP AND SAUCER\n",
              "148    PINK REGENCY TEACUP AND SAUCER  ...  ROSES REGENCY TEACUP AND SAUCER \n",
              "22     PINK REGENCY TEACUP AND SAUCER  ...   GREEN REGENCY TEACUP AND SAUCER\n",
              "155           JUMBO BAG PINK POLKADOT  ...           JUMBO BAG RED RETROSPOT\n",
              "73   (SWEETHEART CERAMIC TRINKET BOX)  ...    STRAWBERRY CERAMIC TRINKET BOX\n",
              "\n",
              "[5 rows x 11 columns]"
            ]
          },
          "metadata": {
            "tags": []
          },
          "execution_count": 60
        }
      ]
    },
    {
      "cell_type": "markdown",
      "metadata": {
        "id": "D9CEnnR8w31N"
      },
      "source": [
        "### Testing\n",
        "\n",
        "Let's test the new rules."
      ]
    },
    {
      "cell_type": "code",
      "metadata": {
        "ExecuteTime": {
          "end_time": "2020-01-12T04:35:31.403739Z",
          "start_time": "2020-01-12T04:35:31.295572Z"
        },
        "colab": {
          "base_uri": "https://localhost:8080/"
        },
        "id": "8S9ncgeDw31O",
        "outputId": "1756eabb-0392-4bb3-b043-6106b9b2b71d"
      },
      "source": [
        "cart = \"RED RETROSPOT CHARLOTTE BAG\"\n",
        "recomm_list=rules_df['str_consequents'][rules_df['str_antecedents'] == cart].unique()\n",
        "re_list = \" \"\n",
        "\n",
        "for i in range(len(recomm_list)):\n",
        "    cnt = len(recomm_list) - 1\n",
        "    if i < cnt:\n",
        "        re_list = re_list + (recomm_list[i]) + \", \"\n",
        "    else:\n",
        "        re_list = re_list + \"& \" + (recomm_list[i])\n",
        "        \n",
        "print(\"Customers who bought {}, also bought{}\".format(cart,re_list))"
      ],
      "execution_count": 61,
      "outputs": [
        {
          "output_type": "stream",
          "text": [
            "Customers who bought RED RETROSPOT CHARLOTTE BAG, also bought CHARLOTTE BAG PINK POLKADOT, CHARLOTTE BAG SUKI DESIGN, WOODLAND CHARLOTTE BAG, STRAWBERRY CHARLOTTE BAG, & JUMBO BAG RED RETROSPOT\n"
          ],
          "name": "stdout"
        }
      ]
    },
    {
      "cell_type": "markdown",
      "metadata": {
        "id": "gRXPefRow31O"
      },
      "source": [
        "#### Thank You"
      ]
    }
  ]
}